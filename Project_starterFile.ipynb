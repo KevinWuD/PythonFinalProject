{
 "cells": [
  {
   "cell_type": "markdown",
   "id": "809a2316",
   "metadata": {},
   "source": [
    "## DonorsChoose Funding Analysis \n",
    "<br>\n",
    "DonorsChoose is an innovative platform that connects donors with teachers from across the United States to fund school projects. These projects range from simple supplies for a science experiment to funds for field trips, providing resources that schools otherwise might not afford. In this project, you will analyze data from the DonorsChoose platform to identify patterns in funding, project success, and factors that influence donor contributions.\n",
    "\n"
   ]
  },
  {
   "cell_type": "markdown",
   "id": "3fee0391",
   "metadata": {},
   "source": [
    "Download the specified CSV files from Canvas and load them into Python for analysis."
   ]
  },
  {
   "cell_type": "code",
   "execution_count": 3,
   "id": "df58e6a6",
   "metadata": {},
   "outputs": [],
   "source": [
    "import pandas as pd\n",
    "project = pd.read_csv('project.csv')"
   ]
  },
  {
   "cell_type": "code",
   "execution_count": null,
   "id": "03eec25b",
   "metadata": {},
   "outputs": [],
   "source": [
    "donation = pd.read_csv('donation.csv')"
   ]
  },
  {
   "cell_type": "code",
   "execution_count": 5,
   "id": "84ca4e24",
   "metadata": {},
   "outputs": [],
   "source": [
    "school = pd.read_csv('school.csv')"
   ]
  },
  {
   "cell_type": "code",
   "execution_count": null,
   "id": "93351903",
   "metadata": {},
   "outputs": [],
   "source": [
    "account = pd.read_csv('account.csv',dtype={5: str}) #requires data type specification for column 5"
   ]
  },
  {
   "cell_type": "code",
   "execution_count": 17,
   "id": "c9ce0d11",
   "metadata": {},
   "outputs": [
    {
     "data": {
      "text/plain": [
       "Index(['schoolid', 'ncesid', 'latitude', 'longitude', 'city', 'state', 'zip',\n",
       "       'metro', 'district', 'county', 'charter', 'magnet', 'year_round',\n",
       "       'nlns', 'kipp', 'charter_ready_promise'],\n",
       "      dtype='object')"
      ]
     },
     "execution_count": 17,
     "metadata": {},
     "output_type": "execute_result"
    }
   ],
   "source": [
    "# Quick summary of school\n",
    "school.head()\n",
    "school.columns"
   ]
  },
  {
   "cell_type": "code",
   "execution_count": 27,
   "id": "c422550f-4e2a-46cc-a39d-618b85048816",
   "metadata": {},
   "outputs": [
    {
     "data": {
      "text/plain": [
       "schoolid                     0\n",
       "ncesid                    6466\n",
       "latitude                     0\n",
       "longitude                    0\n",
       "city                       318\n",
       "state                        0\n",
       "zip                          2\n",
       "metro                    13729\n",
       "district                    33\n",
       "county                       5\n",
       "charter                      0\n",
       "magnet                       0\n",
       "year_round                   0\n",
       "nlns                         0\n",
       "kipp                         0\n",
       "charter_ready_promise        0\n",
       "dtype: int64"
      ]
     },
     "execution_count": 27,
     "metadata": {},
     "output_type": "execute_result"
    }
   ],
   "source": [
    "# We’ll need to decide whether to drop or fill any missing values before analysis.\n",
    "school.isna().sum()"
   ]
  },
  {
   "cell_type": "code",
   "execution_count": 19,
   "id": "8ef963fa",
   "metadata": {},
   "outputs": [
    {
     "data": {
      "text/plain": [
       "metro\n",
       "urban       23478\n",
       "suburban    22969\n",
       "rural       13030\n",
       "Name: count, dtype: int64"
      ]
     },
     "execution_count": 19,
     "metadata": {},
     "output_type": "execute_result"
    }
   ],
   "source": [
    "# Understand whether schools are urban, suburban, or rural. Help identify geographic patterns.\n",
    "school['metro'].value_counts()"
   ]
  },
  {
   "cell_type": "code",
   "execution_count": 21,
   "id": "e9e9e6d7",
   "metadata": {},
   "outputs": [
    {
     "data": {
      "text/plain": [
       "magnet\n",
       "0    69461\n",
       "1     3745\n",
       "Name: count, dtype: int64"
      ]
     },
     "execution_count": 21,
     "metadata": {},
     "output_type": "execute_result"
    }
   ],
   "source": [
    "# See how common special school types are. We can check if these schools receive more or less funding.\n",
    "school['charter'].value_counts()\n",
    "school['magnet'].value_counts()"
   ]
  },
  {
   "cell_type": "code",
   "execution_count": 23,
   "id": "7e207e24",
   "metadata": {},
   "outputs": [
    {
     "data": {
      "text/plain": [
       "state\n",
       "AK    0.036900\n",
       "AL    0.000900\n",
       "AR    0.045263\n",
       "AZ    0.202365\n",
       "CA    0.130465\n",
       "CO    0.120061\n",
       "CT    0.041931\n",
       "DC    0.432331\n",
       "DE    0.139303\n",
       "FL    0.146789\n",
       "GA    0.101380\n",
       "HI    0.103846\n",
       "IA    0.002328\n",
       "ID    0.065708\n",
       "IL    0.052599\n",
       "IN    0.065954\n",
       "KS    0.012835\n",
       "KY    0.000000\n",
       "LA    0.118774\n",
       "La    0.000000\n",
       "MA    0.065539\n",
       "MD    0.055603\n",
       "ME    0.014170\n",
       "MI    0.126459\n",
       "MN    0.116814\n",
       "MO    0.038418\n",
       "MS    0.001157\n",
       "MT    0.000000\n",
       "NC    0.066138\n",
       "ND    0.000000\n",
       "NE    0.000000\n",
       "NH    0.056940\n",
       "NJ    0.074031\n",
       "NM    0.116608\n",
       "NV    0.090737\n",
       "NY    0.064548\n",
       "OH    0.105045\n",
       "OK    0.019231\n",
       "OR    0.079208\n",
       "PA    0.091333\n",
       "RI    0.090196\n",
       "SC    0.050427\n",
       "SD    0.000000\n",
       "TN    0.041931\n",
       "TX    0.067242\n",
       "UT    0.133256\n",
       "VA    0.002957\n",
       "VT    0.000000\n",
       "WA    0.002571\n",
       "WI    0.083679\n",
       "WV    0.000000\n",
       "WY    0.007194\n",
       "Name: charter, dtype: float64"
      ]
     },
     "execution_count": 23,
     "metadata": {},
     "output_type": "execute_result"
    }
   ],
   "source": [
    "# Identify which states have a higher proportion of charter schools or other school types. Useful for understanding regional disparities.\n",
    "school.groupby('state')['charter'].mean()"
   ]
  },
  {
   "cell_type": "code",
   "execution_count": null,
   "id": "3ccb8739",
   "metadata": {},
   "outputs": [],
   "source": [
    "# School data can merge with project data to examine whether different types of schools have different project success or donation levels\n",
    "pd.merge(project, school, on='schoolid')"
   ]
  }
 ],
 "metadata": {
  "kernelspec": {
   "display_name": "Python [conda env:base] *",
   "language": "python",
   "name": "conda-base-py"
  },
  "language_info": {
   "codemirror_mode": {
    "name": "ipython",
    "version": 3
   },
   "file_extension": ".py",
   "mimetype": "text/x-python",
   "name": "python",
   "nbconvert_exporter": "python",
   "pygments_lexer": "ipython3",
   "version": "3.12.7"
  }
 },
 "nbformat": 4,
 "nbformat_minor": 5
}
